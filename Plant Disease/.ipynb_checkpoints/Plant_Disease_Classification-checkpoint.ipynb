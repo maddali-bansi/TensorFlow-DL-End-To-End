{
 "cells": [
  {
   "cell_type": "markdown",
   "metadata": {
    "id": "beQreKPy5CdK",
    "tags": []
   },
   "source": [
    "### 1.Load and Organize Data"
   ]
  },
  {
   "cell_type": "code",
   "execution_count": null,
   "metadata": {
    "id": "3gGJNc7uJqO5"
   },
   "outputs": [],
   "source": [
    "# from google.colab import drive\n",
    "# drive.mount('/content/drive')"
   ]
  },
  {
   "cell_type": "code",
   "execution_count": null,
   "metadata": {
    "id": "VkuCULsg4ud5"
   },
   "outputs": [],
   "source": [
    "# !unzip /content/drive/MyDrive/Datasets/PlantData.zip"
   ]
  },
  {
   "cell_type": "code",
   "execution_count": null,
   "metadata": {
    "id": "sgTdhg0P5Ki6"
   },
   "outputs": [],
   "source": [
    "# !mkdir /content/PlantVillage/POTATO\n",
    "# !cp -a /content/PlantVillage/Potato___Early_blight/. /content/PlantVillage/POTATO/Potato___Early_blight\n",
    "# !cp -a /content/PlantVillage/Potato___Late_blight/. /content/PlantVillage/POTATO/Potato___Late_blight\n",
    "# !cp -a /content/PlantVillage/Potato___healthy/. /content/PlantVillage/POTATO/Potato___healthy"
   ]
  },
  {
   "cell_type": "code",
   "execution_count": 5,
   "metadata": {
    "id": "i8Jkx6sy7Cni"
   },
   "outputs": [],
   "source": [
    "# DATASET_ROOT = \"/content/PlantVillage/POTATO\"\n",
    "DATASET_ROOT = \"PlantVillage/\""
   ]
  },
  {
   "cell_type": "code",
   "execution_count": 1,
   "metadata": {},
   "outputs": [],
   "source": [
    "#!pip install protobuf==3.20.*"
   ]
  },
  {
   "cell_type": "code",
   "execution_count": 6,
   "metadata": {},
   "outputs": [],
   "source": [
    "import os\n",
    "os.environ[\"CUDA_VISIBLE_DEVICES\"]=\"0,1\""
   ]
  },
  {
   "cell_type": "code",
   "execution_count": 7,
   "metadata": {},
   "outputs": [
    {
     "data": {
      "text/plain": [
       "[PhysicalDevice(name='/physical_device:CPU:0', device_type='CPU'),\n",
       " PhysicalDevice(name='/physical_device:DML:0', device_type='DML')]"
      ]
     },
     "execution_count": 7,
     "metadata": {},
     "output_type": "execute_result"
    }
   ],
   "source": [
    "import tensorflow as tf \n",
    "tf.config.experimental.list_physical_devices()"
   ]
  },
  {
   "cell_type": "code",
   "execution_count": 7,
   "metadata": {},
   "outputs": [
    {
     "name": "stdout",
     "output_type": "stream",
     "text": [
      "tf.Tensor([4. 6.], shape=(2,), dtype=float32)\n"
     ]
    }
   ],
   "source": [
    "# import tensorflow.compat.v1 as tf \n",
    "# tf.enable_eager_execution(tf.ConfigProto(log_device_placement=True)) \n",
    "# print(tf.add([1.0, 2.0], [3.0, 4.0])) "
   ]
  },
  {
   "cell_type": "markdown",
   "metadata": {
    "id": "E88VrC2t9QmF"
   },
   "source": [
    "### 2.Processing the Images"
   ]
  },
  {
   "cell_type": "code",
   "execution_count": 15,
   "metadata": {
    "id": "8n8LMmW87Xr6"
   },
   "outputs": [
    {
     "ename": "ImportError",
     "evalue": "Matplotlib requires numpy>=1.17; you have 1.16.0",
     "output_type": "error",
     "traceback": [
      "\u001b[1;31m---------------------------------------------------------------------------\u001b[0m",
      "\u001b[1;31mImportError\u001b[0m                               Traceback (most recent call last)",
      "\u001b[1;32m~\\AppData\\Local\\Temp\\ipykernel_13152\\1092037895.py\u001b[0m in \u001b[0;36m<module>\u001b[1;34m\u001b[0m\n\u001b[0;32m      1\u001b[0m \u001b[1;32mimport\u001b[0m \u001b[0mtensorflow\u001b[0m \u001b[1;32mas\u001b[0m \u001b[0mtf\u001b[0m\u001b[1;33m\u001b[0m\u001b[1;33m\u001b[0m\u001b[0m\n\u001b[0;32m      2\u001b[0m \u001b[1;32mfrom\u001b[0m \u001b[0mtensorflow\u001b[0m\u001b[1;33m.\u001b[0m\u001b[0mkeras\u001b[0m \u001b[1;32mimport\u001b[0m \u001b[0mmodels\u001b[0m\u001b[1;33m,\u001b[0m \u001b[0mlayers\u001b[0m\u001b[1;33m\u001b[0m\u001b[1;33m\u001b[0m\u001b[0m\n\u001b[1;32m----> 3\u001b[1;33m \u001b[1;32mfrom\u001b[0m \u001b[0mmatplotlib\u001b[0m \u001b[1;32mimport\u001b[0m \u001b[0mpyplot\u001b[0m \u001b[1;32mas\u001b[0m \u001b[0mplt\u001b[0m\u001b[1;33m\u001b[0m\u001b[1;33m\u001b[0m\u001b[0m\n\u001b[0m\u001b[0;32m      4\u001b[0m \u001b[1;32mimport\u001b[0m \u001b[0mnumpy\u001b[0m \u001b[1;32mas\u001b[0m \u001b[0mnp\u001b[0m\u001b[1;33m\u001b[0m\u001b[1;33m\u001b[0m\u001b[0m\n\u001b[0;32m      5\u001b[0m \u001b[1;32mfrom\u001b[0m \u001b[0mtensorflow\u001b[0m\u001b[1;33m.\u001b[0m\u001b[0mkeras\u001b[0m\u001b[1;33m.\u001b[0m\u001b[0mpreprocessing\u001b[0m\u001b[1;33m.\u001b[0m\u001b[0mimage\u001b[0m \u001b[1;32mimport\u001b[0m \u001b[0mload_img\u001b[0m\u001b[1;33m,\u001b[0m\u001b[0mimg_to_array\u001b[0m\u001b[1;33m\u001b[0m\u001b[1;33m\u001b[0m\u001b[0m\n",
      "\u001b[1;32m~\\anaconda3\\envs\\directml-new\\lib\\site-packages\\matplotlib\\__init__.py\u001b[0m in \u001b[0;36m<module>\u001b[1;34m\u001b[0m\n\u001b[0;32m    206\u001b[0m \u001b[1;33m\u001b[0m\u001b[0m\n\u001b[0;32m    207\u001b[0m \u001b[1;33m\u001b[0m\u001b[0m\n\u001b[1;32m--> 208\u001b[1;33m \u001b[0m_check_versions\u001b[0m\u001b[1;33m(\u001b[0m\u001b[1;33m)\u001b[0m\u001b[1;33m\u001b[0m\u001b[1;33m\u001b[0m\u001b[0m\n\u001b[0m\u001b[0;32m    209\u001b[0m \u001b[1;33m\u001b[0m\u001b[0m\n\u001b[0;32m    210\u001b[0m \u001b[1;33m\u001b[0m\u001b[0m\n",
      "\u001b[1;32m~\\anaconda3\\envs\\directml-new\\lib\\site-packages\\matplotlib\\__init__.py\u001b[0m in \u001b[0;36m_check_versions\u001b[1;34m()\u001b[0m\n\u001b[0;32m    202\u001b[0m         \u001b[0mmodule\u001b[0m \u001b[1;33m=\u001b[0m \u001b[0mimportlib\u001b[0m\u001b[1;33m.\u001b[0m\u001b[0mimport_module\u001b[0m\u001b[1;33m(\u001b[0m\u001b[0mmodname\u001b[0m\u001b[1;33m)\u001b[0m\u001b[1;33m\u001b[0m\u001b[1;33m\u001b[0m\u001b[0m\n\u001b[0;32m    203\u001b[0m         \u001b[1;32mif\u001b[0m \u001b[0mparse_version\u001b[0m\u001b[1;33m(\u001b[0m\u001b[0mmodule\u001b[0m\u001b[1;33m.\u001b[0m\u001b[0m__version__\u001b[0m\u001b[1;33m)\u001b[0m \u001b[1;33m<\u001b[0m \u001b[0mparse_version\u001b[0m\u001b[1;33m(\u001b[0m\u001b[0mminver\u001b[0m\u001b[1;33m)\u001b[0m\u001b[1;33m:\u001b[0m\u001b[1;33m\u001b[0m\u001b[1;33m\u001b[0m\u001b[0m\n\u001b[1;32m--> 204\u001b[1;33m             raise ImportError(f\"Matplotlib requires {modname}>={minver}; \"\n\u001b[0m\u001b[0;32m    205\u001b[0m                               f\"you have {module.__version__}\")\n\u001b[0;32m    206\u001b[0m \u001b[1;33m\u001b[0m\u001b[0m\n",
      "\u001b[1;31mImportError\u001b[0m: Matplotlib requires numpy>=1.17; you have 1.16.0"
     ]
    }
   ],
   "source": [
    "import tensorflow as tf\n",
    "from tensorflow.keras import models, layers\n",
    "from matplotlib import pyplot as plt\n",
    "import numpy as np\n",
    "from tensorflow.keras.preprocessing.image import load_img,img_to_array\n",
    "from numpy import expand_dims"
   ]
  },
  {
   "cell_type": "code",
   "execution_count": 5,
   "metadata": {
    "id": "SHnN5ZG5-is5"
   },
   "outputs": [],
   "source": [
    "def plt_show(image,title):\n",
    "  plt.figure(figsize=(10,5))\n",
    "  plt.title(title)\n",
    "  plt.imshow((image * 255).astype(np.uint8))"
   ]
  },
  {
   "cell_type": "code",
   "execution_count": 6,
   "metadata": {
    "id": "2mGGXtb59hMH"
   },
   "outputs": [],
   "source": [
    "IMAGE_SIZE = 256\n",
    "BATCH_SIZE = 32\n",
    "EPOCHS = 5"
   ]
  },
  {
   "cell_type": "code",
   "execution_count": 7,
   "metadata": {
    "id": "fy_YX3Em9nOI"
   },
   "outputs": [
    {
     "name": "stdout",
     "output_type": "stream",
     "text": [
      "Found 2152 files belonging to 3 classes.\n"
     ]
    }
   ],
   "source": [
    "dataset = tf.keras.preprocessing.image_dataset_from_directory(DATASET_ROOT,shuffle=True,image_size = (IMAGE_SIZE,IMAGE_SIZE),batch_size=BATCH_SIZE)"
   ]
  },
  {
   "cell_type": "code",
   "execution_count": 8,
   "metadata": {
    "id": "f1YnnGwS9-0h"
   },
   "outputs": [
    {
     "name": "stdout",
     "output_type": "stream",
     "text": [
      "['Potato___Early_blight', 'Potato___Late_blight', 'Potato___healthy']\n"
     ]
    }
   ],
   "source": [
    "class_names = dataset.class_names\n",
    "print(class_names)"
   ]
  },
  {
   "cell_type": "markdown",
   "metadata": {
    "id": "zP0Ksbx6AK4n"
   },
   "source": [
    "#### Visualize Batch"
   ]
  },
  {
   "cell_type": "code",
   "execution_count": null,
   "metadata": {
    "id": "1H6nYOfP-Fkp"
   },
   "outputs": [],
   "source": [
    "plt.figure(figsize=(20, 10))\n",
    "for images,labels in dataset.take(1):\n",
    "    for i in range(32):\n",
    "        ax = plt.subplot(4, 8, i + 1)\n",
    "        plt.imshow(images[i].numpy().astype(\"uint8\"))\n",
    "        plt.title(class_names[labels[i]])\n",
    "        plt.axis(\"off\")"
   ]
  },
  {
   "cell_type": "code",
   "execution_count": 1,
   "metadata": {
    "id": "SHWnKHAA--S6"
   },
   "outputs": [
    {
     "ename": "NameError",
     "evalue": "name 'dataset' is not defined",
     "output_type": "error",
     "traceback": [
      "\u001b[1;31m---------------------------------------------------------------------------\u001b[0m",
      "\u001b[1;31mNameError\u001b[0m                                 Traceback (most recent call last)",
      "Input \u001b[1;32mIn [1]\u001b[0m, in \u001b[0;36m<cell line: 1>\u001b[1;34m()\u001b[0m\n\u001b[1;32m----> 1\u001b[0m train_size \u001b[38;5;241m=\u001b[39m \u001b[38;5;28mint\u001b[39m(\u001b[38;5;241m0.80\u001b[39m \u001b[38;5;241m*\u001b[39m \u001b[38;5;28mlen\u001b[39m(\u001b[43mdataset\u001b[49m))\n\u001b[0;32m      2\u001b[0m test_size \u001b[38;5;241m=\u001b[39m \u001b[38;5;28mint\u001b[39m(\u001b[38;5;241m0.10\u001b[39m \u001b[38;5;241m*\u001b[39m \u001b[38;5;28mlen\u001b[39m(dataset))\n\u001b[0;32m      3\u001b[0m val_size \u001b[38;5;241m=\u001b[39m \u001b[38;5;28mint\u001b[39m(\u001b[38;5;241m0.10\u001b[39m \u001b[38;5;241m*\u001b[39m \u001b[38;5;28mlen\u001b[39m(dataset))\n",
      "\u001b[1;31mNameError\u001b[0m: name 'dataset' is not defined"
     ]
    }
   ],
   "source": [
    "train_size = int(0.80 * len(dataset))\n",
    "test_size = int(0.10 * len(dataset))\n",
    "val_size = int(0.10 * len(dataset))\n",
    "\n",
    "train_dataset = dataset.take(train_size)\n",
    "test_dataset = dataset.skip(train_size)\n",
    "val_dataset = test_dataset.take(val_size)\n",
    "test_dataset = test_dataset.skip(test_size)\n",
    "\n",
    "print(\"Size of Train = \",len(train_dataset))\n",
    "print(\"Size of Test = \",len(test_dataset))\n",
    "print(\"Size of Val = \",len(val_dataset))"
   ]
  },
  {
   "cell_type": "markdown",
   "metadata": {
    "id": "LPdNhqqXD2a5"
   },
   "source": [
    "#### Caching and Pre-fetching"
   ]
  },
  {
   "cell_type": "code",
   "execution_count": null,
   "metadata": {
    "id": "o6fXspPDCiQ6"
   },
   "outputs": [],
   "source": [
    "train_dataset = train_dataset.cache().shuffle(1000).prefetch(buffer_size = tf.data.AUTOTUNE)\n",
    "test_dataset = test_dataset.cache().shuffle(1000).prefetch(buffer_size = tf.data.AUTOTUNE)\n",
    "val_dataset = val_dataset.cache().shuffle(1000).prefetch(buffer_size = tf.data.AUTOTUNE)"
   ]
  },
  {
   "cell_type": "markdown",
   "metadata": {
    "id": "AtB_1gYcE4zp"
   },
   "source": [
    "#### Resizing and Scaling"
   ]
  },
  {
   "cell_type": "code",
   "execution_count": null,
   "metadata": {
    "id": "8Z5QvAsvExwS"
   },
   "outputs": [],
   "source": [
    "resize_rescale = tf.keras.Sequential([\n",
    "                                      layers.experimental.preprocessing.Resizing(IMAGE_SIZE,IMAGE_SIZE),\n",
    "                                      layers.experimental.preprocessing.Rescaling(1.0/255)\n",
    "])"
   ]
  },
  {
   "cell_type": "markdown",
   "metadata": {
    "id": "-EeCEcIwFUBo"
   },
   "source": [
    "#### Augumentation"
   ]
  },
  {
   "cell_type": "code",
   "execution_count": null,
   "metadata": {
    "id": "10zD-sX7FTu2"
   },
   "outputs": [],
   "source": [
    "augumentation  = tf.keras.Sequential([\n",
    "                                      layers.experimental.preprocessing.RandomFlip(\"horizontal_and_vertical\"),\n",
    "                                      layers.experimental.preprocessing.RandomRotation(0.2)\n",
    "])"
   ]
  },
  {
   "cell_type": "markdown",
   "metadata": {
    "id": "VTg9Rma0J-nt"
   },
   "source": [
    "### 3.Build Model"
   ]
  },
  {
   "cell_type": "markdown",
   "metadata": {
    "id": "L7_Fbu-8GWDi"
   },
   "source": [
    "#### Model Building"
   ]
  },
  {
   "cell_type": "code",
   "execution_count": null,
   "metadata": {
    "id": "yc0RkFZnFMtP"
   },
   "outputs": [],
   "source": [
    "input_shape = (BATCH_SIZE,IMAGE_SIZE,IMAGE_SIZE,3)\n",
    "model = models.Sequential([\n",
    "                           resize_rescale,\n",
    "                           augumentation,\n",
    "                           layers.Conv2D(32, (3,3), activation='relu', input_shape = input_shape),\n",
    "                           layers.MaxPooling2D((2,2)),\n",
    "                           layers.Conv2D(64, (3,3), activation='relu'),\n",
    "                           layers.Flatten(),\n",
    "                           layers.Dense(64,activation='relu'),\n",
    "                           layers.Dense(3,activation='softmax')\n",
    "])\n",
    "model.build(input_shape)\n",
    "model.summary()"
   ]
  },
  {
   "cell_type": "code",
   "execution_count": null,
   "metadata": {
    "id": "P5doGx3bIkuY"
   },
   "outputs": [],
   "source": [
    "model.compile(\n",
    "    optimizer='adam',\n",
    "    loss = tf.keras.losses.SparseCategoricalCrossentropy(),\n",
    "    metrics = ['accuracy']\n",
    ")"
   ]
  },
  {
   "cell_type": "code",
   "execution_count": null,
   "metadata": {
    "id": "uDDHW61sIx2Z"
   },
   "outputs": [],
   "source": [
    "history = model.fit(train_dataset,epochs = EPOCHS,batch_size=BATCH_SIZE,verbose=1,validation_data=val_dataset)"
   ]
  },
  {
   "cell_type": "code",
   "execution_count": null,
   "metadata": {
    "id": "IVXjZ-8QJFOq"
   },
   "outputs": [],
   "source": [
    "scores = model.evaluate(test_dataset)"
   ]
  },
  {
   "cell_type": "markdown",
   "metadata": {
    "id": "1dXcLZBkBSeN"
   },
   "source": [
    "#### Decompose the Network Architechture"
   ]
  },
  {
   "cell_type": "code",
   "execution_count": null,
   "metadata": {
    "id": "VhoUNx00-6iL"
   },
   "outputs": [],
   "source": [
    "conv_layer_index = []\n",
    "for i in range(len(model.layers)):\n",
    "    layer = model.layers[i]\n",
    "    if 'conv' not in layer.name:\n",
    "        continue    \n",
    "    conv_layer_index.append(i)\n",
    "    print(i , layer.name , layer.output.shape)\n",
    "print(\"Con Layers Index  =\",conv_layer_index)"
   ]
  },
  {
   "cell_type": "code",
   "execution_count": null,
   "metadata": {
    "id": "SFbN5tVrCAbu"
   },
   "outputs": [],
   "source": [
    "outputs = [model.layers[i].output for i in conv_layer_index]\n",
    "model_vis = models.Model(inputs=model.inputs,outputs=outputs)\n",
    "model_vis.summary()"
   ]
  },
  {
   "cell_type": "code",
   "execution_count": null,
   "metadata": {
    "id": "-5Qp7F6IAAG7"
   },
   "outputs": [],
   "source": [
    "image = load_img(\"/content/PlantVillage/POTATO/Potato___Late_blight/0051e5e8-d1c4-4a84-bf3a-a426cdad6285___RS_LB 4640.JPG\" , target_size=(IMAGE_SIZE,IMAGE_SIZE))\n",
    "# convert the image to an array\n",
    "image = img_to_array(image)\n",
    "# expand dimensions so that it represents a single 'sample'\n",
    "image = expand_dims(image, axis=0)\n",
    "#calculating features_map\n",
    "features = model_vis.predict(image)"
   ]
  },
  {
   "cell_type": "code",
   "execution_count": null,
   "metadata": {
    "id": "mM3ab7wwAS-b"
   },
   "outputs": [],
   "source": [
    "for feature in features:\n",
    "  kernel_size = feature.shape[3] \n",
    "  if kernel_size == 32:\n",
    "    rows,cols = 4,8\n",
    "    figsize= (15,8)\n",
    "  elif kernel_size == 64:\n",
    "    rows,cols = 4,16\n",
    "    figsize= (30,10)\n",
    "  fig = plt.figure(figsize=figsize)\n",
    "\n",
    "  for i in range(1,rows*cols+1):\n",
    "    fig = plt.subplot(rows,cols,i)\n",
    "    fig.set_xticks([])\n",
    "    fig.set_yticks([])\n",
    "    plt.title(\" Filter = \"+str(i))\n",
    "    plt.imshow(feature[0,:,:,i-1])\n",
    "    \n",
    "  plt.show()\n"
   ]
  },
  {
   "cell_type": "code",
   "execution_count": null,
   "metadata": {
    "id": "ar2nyDkfFVW7"
   },
   "outputs": [],
   "source": [
    "acc = history.history['accuracy']\n",
    "val_acc = history.history['val_accuracy']\n",
    "loss = history.history['loss']\n",
    "val_loss = history.history['val_loss']"
   ]
  },
  {
   "cell_type": "code",
   "execution_count": null,
   "metadata": {
    "id": "DW90lXvnSes7"
   },
   "outputs": [],
   "source": [
    "plt.figure(figsize=(15,6))\n",
    "plt.subplot(1,2,1)\n",
    "plt.plot(range(EPOCHS),acc, label='Train Accuracy')\n",
    "plt.plot(range(EPOCHS), val_acc,label='Val Accuracy')\n",
    "plt.title('Train and Val Accuracy')\n",
    "\n",
    "plt.subplot(1,2,2)\n",
    "plt.plot(range(EPOCHS),loss, label='Train Loss')\n",
    "plt.plot(range(EPOCHS), val_loss,label='Val Loss')\n",
    "plt.title('Train and Val Loss')\n"
   ]
  },
  {
   "cell_type": "markdown",
   "metadata": {
    "id": "IUU4bdRaXvRP"
   },
   "source": [
    "#### Test Inference"
   ]
  },
  {
   "cell_type": "code",
   "execution_count": null,
   "metadata": {
    "id": "w68zeiW8TdnQ"
   },
   "outputs": [],
   "source": [
    "for images_batch, labels_batch in test_dataset.take(1):\n",
    "  image = images_batch[0].numpy().astype('uint8')\n",
    "  label = labels_batch[0]\n",
    "  plt.imshow(image)\n",
    "  print(\"Actual = \",class_names[label])\n",
    "  batch_prediction = model.predict(images_batch)\n",
    "  print(\"Predicted = \",class_names[np.argmax(batch_prediction[0])])"
   ]
  },
  {
   "cell_type": "code",
   "execution_count": null,
   "metadata": {
    "id": "VBVhokPaYM77"
   },
   "outputs": [],
   "source": [
    "def predict(model, img):\n",
    "  img_array = img_to_array(images[i].numpy())\n",
    "  img_array = expand_dims(img_array,0)\n",
    "\n",
    "  predictions = model.predict(img_array)\n",
    "\n",
    "  predicted_class = class_names[np.argmax(predictions[0])]\n",
    "  confidence = round(100 * (np.max(predictions[0])),2)\n",
    "  return predicted_class, confidence"
   ]
  },
  {
   "cell_type": "code",
   "execution_count": null,
   "metadata": {
    "id": "ptIhrxjjbJ-a"
   },
   "outputs": [],
   "source": [
    "plt.figure(figsize=(15,15))\n",
    "for images, labels in test_dataset.take(1):\n",
    "  for i in range(9):\n",
    "    ax = plt.subplot(3,3,i+1)\n",
    "    plt.imshow(images[i].numpy().astype(\"uint8\"))\n",
    "    predicted_class, confidence = predict(model, images[i].numpy())\n",
    "    actual_class = class_names[labels[i]]\n",
    "    plt.title(f'Actual: {actual_class}, \\n Predicted: {predicted_class} \\n Confidence: {confidence}')\n",
    "    plt.axis(\"off\")"
   ]
  },
  {
   "cell_type": "markdown",
   "metadata": {
    "id": "NELIa8YQVhws"
   },
   "source": [
    "#### Save the Model"
   ]
  },
  {
   "cell_type": "code",
   "execution_count": null,
   "metadata": {
    "id": "XPd6IGrobnuS"
   },
   "outputs": [],
   "source": [
    "model_name = 'model_val_acc_'+str(history.history['val_accuracy'][-1])\n",
    "model.save(f\"./models/{model_name}\")"
   ]
  },
  {
   "cell_type": "code",
   "execution_count": null,
   "metadata": {
    "id": "L-r5698bVtw-"
   },
   "outputs": [],
   "source": [
    "model_name"
   ]
  },
  {
   "cell_type": "markdown",
   "metadata": {
    "id": "4T5Lmf9XYBK3"
   },
   "source": [
    "### 4.Fast API-Expose the Model"
   ]
  },
  {
   "cell_type": "code",
   "execution_count": null,
   "metadata": {
    "id": "hPKMl0eIYSzL"
   },
   "outputs": [],
   "source": [
    "!pip install fastapi nest-asyncio pyngrok uvicorn python-multipart"
   ]
  },
  {
   "cell_type": "markdown",
   "metadata": {
    "id": "xF1IlPDXY5YW"
   },
   "source": [
    "#### Build App"
   ]
  },
  {
   "cell_type": "code",
   "execution_count": null,
   "metadata": {
    "id": "PsurjH7FYDjd"
   },
   "outputs": [],
   "source": [
    "from fastapi import FastAPI,File,UploadFile\n",
    "from fastapi.middleware.cors import CORSMiddleware\n",
    "from io import BytesIO\n",
    "from PIL import Image"
   ]
  },
  {
   "cell_type": "code",
   "execution_count": null,
   "metadata": {
    "id": "UUvNWAFOegz5"
   },
   "outputs": [],
   "source": [
    "model = models.load_model(\"/content/models/model_val_acc_0.96875\")\n",
    "CLASS_NAMES = [\"Early Blight\" ,\"Late Blight\",\"Healthy\"]"
   ]
  },
  {
   "cell_type": "code",
   "execution_count": null,
   "metadata": {
    "id": "R59WtlyvYgVm"
   },
   "outputs": [],
   "source": [
    "app = FastAPI()\n",
    "app.add_middleware(\n",
    "    CORSMiddleware,\n",
    "    allow_origins=['*'],\n",
    "    allow_credentials=True,\n",
    "    allow_methods=['*'],\n",
    "    allow_headers=['*'],\n",
    ")\n",
    "@app.get('/ping')\n",
    "async def ping():\n",
    "  return \"Hello\""
   ]
  },
  {
   "cell_type": "code",
   "execution_count": null,
   "metadata": {
    "id": "URcGeZhFaDus"
   },
   "outputs": [],
   "source": [
    "@app.post(\"/predict\")\n",
    "async def predict(file:UploadFile = File(...)):\n",
    "  image = np.array(Image.open(BytesIO(file)))\n",
    "  image_batch = np.expand_dims(image,0)\n",
    "  predictions = model.predict(image_batch)\n",
    "  predicted_class = class_names[np.argmax(predictions[0])]\n",
    "  confidence = np.max(predictions[0])\n",
    "  return { 'class':predicted_class ,'confidence':round(confidence *100,2)}"
   ]
  },
  {
   "cell_type": "markdown",
   "metadata": {
    "id": "3Qj6HWEuZEe_"
   },
   "source": [
    "#### Expose App in Colab"
   ]
  },
  {
   "cell_type": "code",
   "execution_count": null,
   "metadata": {
    "id": "3Oi7UjDWYxOe"
   },
   "outputs": [],
   "source": [
    "import nest_asyncio\n",
    "from pyngrok import ngrok\n",
    "import uvicorn\n",
    "\n",
    "ngrok_tunnel = ngrok.connect(8000)\n",
    "print('Public URL:', ngrok_tunnel.public_url)\n",
    "nest_asyncio.apply()\n",
    "uvicorn.run(app, port=8000)"
   ]
  }
 ],
 "metadata": {
  "accelerator": "GPU",
  "colab": {
   "name": "Plant Disease Classification.ipynb",
   "private_outputs": true,
   "provenance": []
  },
  "gpuClass": "standard",
  "kernelspec": {
   "display_name": "tensorflow-directml-new",
   "language": "python",
   "name": "myenv"
  },
  "language_info": {
   "codemirror_mode": {
    "name": "ipython",
    "version": 3
   },
   "file_extension": ".py",
   "mimetype": "text/x-python",
   "name": "python",
   "nbconvert_exporter": "python",
   "pygments_lexer": "ipython3",
   "version": "3.7.13"
  }
 },
 "nbformat": 4,
 "nbformat_minor": 4
}
